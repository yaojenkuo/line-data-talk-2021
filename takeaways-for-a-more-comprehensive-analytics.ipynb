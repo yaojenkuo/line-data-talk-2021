{
 "cells": [
  {
   "cell_type": "markdown",
   "id": "rental-listening",
   "metadata": {
    "slideshow": {
     "slide_type": "slide"
    }
   },
   "source": [
    "# Takeaways For a More Comprehensive Analytics\n",
    "\n",
    "> LINE Data X DATAINPOINT\n",
    ">\n",
    "> 2021-02-25\n",
    "\n",
    "Kuo, Yao-Jen <yaojenkuo@datainpoint.com> from [DATAINPOINT](https://datainpoint.com)"
   ]
  },
  {
   "cell_type": "markdown",
   "id": "satellite-lawsuit",
   "metadata": {
    "slideshow": {
     "slide_type": "subslide"
    }
   },
   "source": [
    "## AGENDA\n",
    "\n",
    "- Takeaways for a more comprehensive analytics\n",
    "- Breakout session\n",
    "- Takeaways for a more comprehensive analytics(Cont'd)\n",
    "- Breakout session"
   ]
  },
  {
   "cell_type": "markdown",
   "id": "catholic-norfolk",
   "metadata": {
    "slideshow": {
     "slide_type": "subslide"
    }
   },
   "source": [
    "## 3 TAKEAWAYS\n",
    "\n",
    "1. **A tale of two analytics**, there is ambiguity between business-oriented and data-oriented analytics.\n",
    "2. **Myth of ONE for ALL**, there is no best framework for all analytic tasks, but indeed the most generalized one for others to inherit.\n",
    "3. **Story of two goats**, one of them narrows the gap between business and data bureaucracy."
   ]
  },
  {
   "cell_type": "markdown",
   "id": "exceptional-premium",
   "metadata": {
    "slideshow": {
     "slide_type": "slide"
    }
   },
   "source": [
    "## TAKEAWAY \\#1: A TALE OF TWO ANALYTICS\n",
    "\n",
    "![](https://media.giphy.com/media/3oEjHWzZQaCrZW2aWs/giphy.gif)\n",
    "\n",
    "Source: <http://gph.is/1WbH9RY>"
   ]
  },
  {
   "cell_type": "markdown",
   "id": "directed-samuel",
   "metadata": {
    "slideshow": {
     "slide_type": "subslide"
    }
   },
   "source": [
    "## WHAT IS ANALYTICS\n",
    "\n",
    "Analytics has two closely related definitions, to break something up into its constituent parts; and to study the relationships of the parts to the whole."
   ]
  },
  {
   "cell_type": "markdown",
   "id": "uniform-ethics",
   "metadata": {
    "slideshow": {
     "slide_type": "subslide"
    }
   },
   "source": [
    "## ANALYTICS IN PLAIN ENGLISH\n",
    "\n",
    "Underneath all the fancy words, analytics is basically an approach to solve business problem in a logic-based, fact-based, or data-driven way."
   ]
  },
  {
   "cell_type": "markdown",
   "id": "acquired-export",
   "metadata": {
    "slideshow": {
     "slide_type": "subslide"
    }
   },
   "source": [
    "## WHY ANALYTICS\n",
    "\n",
    "- Analytics bridges the gap between business problems and action plans.\n",
    "- Business problems => ~~Analytics~~ => Action plans => Evaluate => A reiterative loop."
   ]
  },
  {
   "cell_type": "markdown",
   "id": "invalid-industry",
   "metadata": {
    "slideshow": {
     "slide_type": "subslide"
    }
   },
   "source": [
    "## THE 10 COMMON BUSINESS PROBLEMS(1-5)\n",
    "\n",
    "- Entering a new market.\n",
    "- Industry analysis.\n",
    "- Mergers & acquisitions.\n",
    "- New product.\n",
    "- Pricing strategies."
   ]
  },
  {
   "cell_type": "markdown",
   "id": "configured-artwork",
   "metadata": {
    "slideshow": {
     "slide_type": "subslide"
    }
   },
   "source": [
    "## THE 10 COMMON BUSINESS PROBLEMS(6-10)\n",
    "\n",
    "- Growth strategies.\n",
    "- New business.\n",
    "- Competitive response.\n",
    "- Increasing profits.\n",
    "    - Increasing revenue.\n",
    "    - Reducing costs.\n",
    "- Turnaround.\n",
    "\n",
    "Source: <https://www.amazon.com/Case-Point-11-Interview-Preparation/dp/0986370762>"
   ]
  },
  {
   "cell_type": "markdown",
   "id": "correct-meaning",
   "metadata": {
    "slideshow": {
     "slide_type": "subslide"
    }
   },
   "source": [
    "## THERE COMES THE ANALYTIC FRAMEWORKS\n",
    "\n",
    "We apply analytics frameworks for the purpose of:\n",
    "- Improving efficiency, quality, reliability and robustness.\n",
    "- Achieving the DRY principle."
   ]
  },
  {
   "cell_type": "markdown",
   "id": "chemical-pioneer",
   "metadata": {
    "slideshow": {
     "slide_type": "subslide"
    }
   },
   "source": [
    "## TOO MANY ANALYTIC FRAMEWORKS\n",
    "\n",
    "![](https://media.giphy.com/media/H1KLQt3RT0sHm/giphy.gif)\n",
    "\n",
    "Source: <http://gph.is/18hNtOr>"
   ]
  },
  {
   "cell_type": "markdown",
   "id": "charitable-bailey",
   "metadata": {
    "slideshow": {
     "slide_type": "subslide"
    }
   },
   "source": [
    "## DIVERSITY ARISES: AS A BUSINESS-ORIENTED ANALYST\n",
    "\n",
    "A business-oriented analyst probably prefers frameworks like:\n",
    "- The Ivy League system.(e.g. 3Cs, 4Ps, or Porter's five forces.)\n",
    "- The consulting firm system.(e.g. BCG matrix or McKinsey 7-step problem solving.)\n",
    "- The income statement analysis.\n",
    "- ...etc."
   ]
  },
  {
   "cell_type": "markdown",
   "id": "united-acceptance",
   "metadata": {
    "slideshow": {
     "slide_type": "subslide"
    }
   },
   "source": [
    "## DIVERSITY ARISES: AS A DATA-ORIENTED ANALYST\n",
    "\n",
    "A data-oriented analyst probably prefers frameworks like:\n",
    "- The Gartner analytics ascendancy model.\n",
    "- The data science hierarchy of needs.\n",
    "- The data science project flow.\n",
    "- ...etc."
   ]
  },
  {
   "cell_type": "markdown",
   "id": "copyrighted-tourist",
   "metadata": {
    "slideshow": {
     "slide_type": "subslide"
    }
   },
   "source": [
    "## A GLANCE AT 3Cs\n",
    "\n",
    "- Customer;\n",
    "- Competitor;\n",
    "- Company."
   ]
  },
  {
   "cell_type": "markdown",
   "id": "proprietary-channel",
   "metadata": {
    "slideshow": {
     "slide_type": "subslide"
    }
   },
   "source": [
    "## A GLANCE AT 4Ps\n",
    "\n",
    "- Product;\n",
    "- Price;\n",
    "- Place;\n",
    "- Promotion."
   ]
  },
  {
   "cell_type": "markdown",
   "id": "specified-faculty",
   "metadata": {
    "slideshow": {
     "slide_type": "subslide"
    }
   },
   "source": [
    "## A GLANCE AT MCKINSEY 7-STEP PROBLEM SOLVING\n",
    "\n",
    "1. Problem definition.\n",
    "2. Problem structuring.\n",
    "3. Prioritization.\n",
    "4. Issue analysis.\n",
    "5. Synthesis.\n",
    "6. Storylining.\n",
    "7. Presentation.\n",
    "\n",
    "...A reiterative loop"
   ]
  },
  {
   "cell_type": "markdown",
   "id": "eight-snapshot",
   "metadata": {
    "slideshow": {
     "slide_type": "subslide"
    }
   },
   "source": [
    "## A GLANCE AT THE GARTNER ANALYTICS ASCENDANCY MODEL\n",
    "\n",
    "![](images/gaam.jpeg)\n",
    "\n",
    "Source: <https://www.gartner.com/en/documents/1964015/best-practices-in-analytics-integrating-analytical-capab>"
   ]
  },
  {
   "cell_type": "markdown",
   "id": "trained-inventory",
   "metadata": {
    "slideshow": {
     "slide_type": "subslide"
    }
   },
   "source": [
    "## A GLANCE AT THE DATA SCIENCE HIERARCHY OF NEEDS\n",
    "\n",
    "![](images/ds-hierarchy-needs.png)\n",
    "\n",
    "Source: <https://hackernoon.com/the-ai-hierarchy-of-needs-18f111fcc007>"
   ]
  },
  {
   "cell_type": "markdown",
   "id": "pretty-bristol",
   "metadata": {
    "slideshow": {
     "slide_type": "subslide"
    }
   },
   "source": [
    "## A GLANCE AT THE DATA SCIENCE PROJECT FLOW\n",
    "\n",
    "![](images/data-science-project.png)\n",
    "\n",
    "Source: <https://r4ds.had.co.nz/introduction.html>"
   ]
  },
  {
   "cell_type": "markdown",
   "id": "wooden-occasions",
   "metadata": {
    "slideshow": {
     "slide_type": "subslide"
    }
   },
   "source": [
    "## DIFFERENT FOCUSES\n",
    "\n",
    "- Business frameworks focus on the flow of LOGIC.\n",
    "- Data frameworks focus on the flow of INFORMATION VALUE."
   ]
  },
  {
   "cell_type": "markdown",
   "id": "fundamental-austria",
   "metadata": {
    "slideshow": {
     "slide_type": "subslide"
    }
   },
   "source": [
    "## WHAT WE'VE GAINED FROM TAKEAWAY \\#1\n",
    "\n",
    "- There is a certain level of ambiguity when talking about analytics, especially when backgrounds of audience are diversified.\n",
    "- There are two flavors of analytics mentioned here: business-oriented vs. data-oriented.\n",
    "- Both business-oriented and data-oriented analytics derive a wide variety of frameworks."
   ]
  },
  {
   "cell_type": "markdown",
   "id": "expensive-sherman",
   "metadata": {
    "slideshow": {
     "slide_type": "slide"
    }
   },
   "source": [
    "## TAKEAWAY \\#2: MYTH OF ONE FOR ALL\n",
    "\n",
    "![](https://media.giphy.com/media/b7Fq4pVZIsrra/giphy.gif)\n",
    "\n",
    "Source: <http://gph.is/1maf0K9>"
   ]
  },
  {
   "cell_type": "markdown",
   "id": "qualified-evaluation",
   "metadata": {
    "slideshow": {
     "slide_type": "subslide"
    }
   },
   "source": [
    "## A FAIRY TALE\n",
    "\n",
    "There exists a generalized and widely-adopted framework for all analytic projects."
   ]
  },
  {
   "cell_type": "markdown",
   "id": "quick-direction",
   "metadata": {
    "slideshow": {
     "slide_type": "subslide"
    }
   },
   "source": [
    "## SCIKIT-LEARN, CHOOSING THE RIGHT ESTIMATOR\n",
    "\n",
    "![](images/sklearn.png)\n",
    "\n",
    "Source: <https://scikit-learn.org/stable/tutorial/machine_learning_map/index.html>"
   ]
  },
  {
   "cell_type": "markdown",
   "id": "dramatic-meeting",
   "metadata": {
    "slideshow": {
     "slide_type": "subslide"
    }
   },
   "source": [
    "## CHESTER ISMAY, THE INFERENCE MIND MAP\n",
    "\n",
    "![](images/inference-mind-map.png)\n",
    "\n",
    "Source: <https://coggle.it/diagram/Vxlydu1akQFeqo6-/t/inference>"
   ]
  },
  {
   "cell_type": "markdown",
   "id": "approved-capture",
   "metadata": {
    "slideshow": {
     "slide_type": "subslide"
    }
   },
   "source": [
    "## A WIDE VARIETY OF MODELS OUT THERE\n",
    "\n",
    "We are probably not confident enough to say that we can have THE model, instead we have the most appropriate one and it performs well comparing to others which are both handy and accessible."
   ]
  },
  {
   "cell_type": "markdown",
   "id": "optional-reaction",
   "metadata": {
    "slideshow": {
     "slide_type": "subslide"
    }
   },
   "source": [
    "## A WIDE VARIETY OF FRAMEWORKS OUT THERE\n",
    "\n",
    "We've already seen many common business problems and business-oriented/data-oriented frameworks. It is obvious that we are also not confident to say that we have THE framework."
   ]
  },
  {
   "cell_type": "markdown",
   "id": "durable-stable",
   "metadata": {
    "slideshow": {
     "slide_type": "subslide"
    }
   },
   "source": [
    "## MOST GENERALIZED FRAMEWORK IMHO\n",
    "\n",
    "- Business-oriented framework: the **simplified** McKinsey 7-step problem solving.\n",
    "- Data-oriented framework: the Gartner analytics ascendancy model."
   ]
  },
  {
   "cell_type": "markdown",
   "id": "unlimited-burning",
   "metadata": {
    "slideshow": {
     "slide_type": "subslide"
    }
   },
   "source": [
    "## THE SIMPLIFIED MCKINSEY 7-STEP PROBLEM-SOLVING FRAMEWORK \n",
    "\n",
    "1. Problem definition.\n",
    "2. Problem structuring.\n",
    "3. Prioritization.\n",
    "4. ~~Issue analysis.~~\n",
    "5. Synthesis.\n",
    "6. ~~Storylining.~~\n",
    "7. ~~Presentation.~~\n",
    "\n",
    "...A reiterative loop."
   ]
  },
  {
   "cell_type": "markdown",
   "id": "opened-buyer",
   "metadata": {
    "slideshow": {
     "slide_type": "subslide"
    }
   },
   "source": [
    "## A GOOD PROBLEM STATEMENT\n",
    "\n",
    "- is specific.\n",
    "- is debatable.\n",
    "- focuses on what decision maker needs to move forward."
   ]
  },
  {
   "cell_type": "markdown",
   "id": "excited-presentation",
   "metadata": {
    "slideshow": {
     "slide_type": "subslide"
    }
   },
   "source": [
    "## CREATE A PROBLEM STATEMENT WORKSHEET FOR REFERENCE\n",
    "\n",
    "![](images/problem-statement.png)\n",
    "\n",
    "Source: Google Search"
   ]
  },
  {
   "cell_type": "markdown",
   "id": "sharp-vault",
   "metadata": {
    "slideshow": {
     "slide_type": "subslide"
    }
   },
   "source": [
    "## A GOOD PROBLEM STRUCTURING\n",
    "\n",
    "- structures problem via logic tree.\n",
    "    - Issue tree.\n",
    "    - Hypothesis-driven tree.\n",
    "- complies with MECE principle."
   ]
  },
  {
   "cell_type": "markdown",
   "id": "ranking-framing",
   "metadata": {
    "slideshow": {
     "slide_type": "subslide"
    }
   },
   "source": [
    "## ISSUE TREE: FORWARD INDUCTION\n",
    "\n",
    "- How can I save more money?\n",
    "    - Increase income.\n",
    "        - More money from work.\n",
    "            - Sales incentives.\n",
    "            - More working hours.\n",
    "        - More money from investment.\n",
    "            - Adjust my portfolio.\n",
    "    - Reduce expenses.\n",
    "        - Shop around fast-fashioned brands.\n",
    "        - Buy merchants with cash-back campaigns."
   ]
  },
  {
   "cell_type": "markdown",
   "id": "saving-trick",
   "metadata": {
    "slideshow": {
     "slide_type": "subslide"
    }
   },
   "source": [
    "## HYPOTHESIS-DRIVEN TREE: BACKWARD INDUCTION\n",
    "\n",
    "- I can save more money through portfolio adjustments.\n",
    "    - My work is not sales-oriented nor paid by hour.\n",
    "    - I do not want to change my shopping habits.\n",
    "    - I am being too conservative.\n",
    "        - Stocks have higher profits than bonds.\n",
    "        - ETFs have lower profits than stocks.\n",
    "    - I am not leverage investing.\n",
    "        - Leverage investment is able to seek higher profits.\n",
    "    - I am only holding long positions.\n",
    "        - Holding short positions is able to make money during bear market."
   ]
  },
  {
   "cell_type": "markdown",
   "id": "disabled-entrepreneur",
   "metadata": {
    "slideshow": {
     "slide_type": "subslide"
    }
   },
   "source": [
    "## THE SECRET SAUCE OF SUCCESSFUL PROBLEM STRUCTURING\n",
    "\n",
    "> There is only one way to eat an elephant: a bite at a time.\n",
    ">\n",
    "> [Desmond Tutu](https://en.wikipedia.org/wiki/Desmond_Tutu)"
   ]
  },
  {
   "cell_type": "markdown",
   "id": "intermediate-harmony",
   "metadata": {
    "slideshow": {
     "slide_type": "subslide"
    }
   },
   "source": [
    "## A GOOD PRIORITIZATION\n",
    "\n",
    "Takes both financial impact and ease of implementation into consideration."
   ]
  },
  {
   "cell_type": "markdown",
   "id": "absent-filter",
   "metadata": {
    "slideshow": {
     "slide_type": "subslide"
    }
   },
   "source": [
    "## CREATE A IMPACT-FEASIBILITY MATRIX FOR REFERENCE\n",
    "\n",
    "![](images/prioritization.png)\n",
    "\n",
    "Source: [Ten red flags signaling your analytics program will fail](https://www.mckinsey.com/business-functions/mckinsey-analytics/our-insights/ten-red-flags-signaling-your-analytics-program-will-fail)"
   ]
  },
  {
   "cell_type": "markdown",
   "id": "dressed-munich",
   "metadata": {
    "slideshow": {
     "slide_type": "subslide"
    }
   },
   "source": [
    "## A GOOD SYNTHESIS\n",
    "\n",
    "- links the hypothesis and supporting rationale.\n",
    "- marks information required.\n",
    "- identifies responsibility and timing."
   ]
  },
  {
   "cell_type": "markdown",
   "id": "immune-panic",
   "metadata": {
    "slideshow": {
     "slide_type": "subslide"
    }
   },
   "source": [
    "## THE GARTNER ANALYTICS ASCENDANCY MODEL\n",
    "\n",
    "![](images/gaam.jpeg)\n",
    "\n",
    "Source: <https://www.gartner.com/en/documents/1964015/best-practices-in-analytics-integrating-analytical-capab>"
   ]
  },
  {
   "cell_type": "markdown",
   "id": "fossil-kingston",
   "metadata": {
    "slideshow": {
     "slide_type": "subslide"
    }
   },
   "source": [
    "## DEFINITION: DESCRIPTIVE ANALYTICS\n",
    "\n",
    "> Descriptive analytics is the examination of data or content, usually manually performed, to answer the question \"What happened?\" (or What is happening?), characterized by traditional business intelligence, visualizations, tables, or generated narratives."
   ]
  },
  {
   "cell_type": "markdown",
   "id": "residential-midnight",
   "metadata": {
    "slideshow": {
     "slide_type": "subslide"
    }
   },
   "source": [
    "## DEFINITION: DIAGNOSTIC ANALYTICS\n",
    "\n",
    "> Diagnostic analytics is a form of advanced analytics that examines data or content to answer the question, \"Why did it happen?\" It is characterized by techniques such as drill-down, data discovery, data mining and correlations."
   ]
  },
  {
   "cell_type": "markdown",
   "id": "daily-authority",
   "metadata": {
    "slideshow": {
     "slide_type": "subslide"
    }
   },
   "source": [
    "## DEFINITION: PREDICTIVE ANALYTICS\n",
    "\n",
    "> Predictive analytics describes any approach to data mining with four attributes: an emphasis on prediction (rather than description, classification or clustering), rapid analysis measured in hours or days (rather than the stereotypical months of traditional data mining), an emphasis on the business relevance of the resulting insights (no ivory tower analysis), and an emphasis on ease of use, thus making the tools accessible to business users."
   ]
  },
  {
   "cell_type": "markdown",
   "id": "mighty-progress",
   "metadata": {
    "slideshow": {
     "slide_type": "subslide"
    }
   },
   "source": [
    "## DEFINITION: PRESCRIPTIVE ANALYTICS\n",
    "\n",
    "> Prescriptive analytics is a form of advanced analytics which examines data or content to answer the question \"What should be done?\" or \"What can we do to make _______ happen?\", and is characterized by techniques such as graph analysis, simulation, complex event processing, neural networks, recommendation engines, heuristics, and machine learning."
   ]
  },
  {
   "cell_type": "markdown",
   "id": "cathedral-tonight",
   "metadata": {
    "slideshow": {
     "slide_type": "subslide"
    }
   },
   "source": [
    "## PROS OF THE GARTNER ANALYTICS ASCENDANCY MODEL\n",
    "\n",
    "- Its format closely mirrors the classic **5W2H** journalist technique that anyone can understand with ease.\n",
    "- It makes good sense, first you learn to crawl, then you learn to walk before you can run."
   ]
  },
  {
   "cell_type": "markdown",
   "id": "spatial-subscriber",
   "metadata": {
    "slideshow": {
     "slide_type": "subslide"
    }
   },
   "source": [
    "## CONS OF THE GARTNER ANALYTICS ASCENDANCY MODEL\n",
    "\n",
    "- The \"ascendancy\" implies an implementing order.\n",
    "- Both axes \"value\" and \"difficulty\" are misleading (the model was published in 2012).\n",
    "- There is no certainty that higher levels of analytics bring more value."
   ]
  },
  {
   "cell_type": "markdown",
   "id": "polar-archive",
   "metadata": {
    "slideshow": {
     "slide_type": "subslide"
    }
   },
   "source": [
    "## WHAT WE'VE GAINED FROM TAKEAWAY \\#2\n",
    "\n",
    "- There is no best framework for all analytic tasks, but indeed the most generalized one for others to inherit.\n",
    "- Dig a little deeper into both McKinsey and Gartner analytic framework.\n",
    "- Apply the **simplified** McKinsey 7-step problem solving framework."
   ]
  },
  {
   "cell_type": "markdown",
   "id": "secure-praise",
   "metadata": {
    "slideshow": {
     "slide_type": "subslide"
    }
   },
   "source": [
    "## BREAKOUT SESSION\n",
    "\n",
    "- How can a polling agency increase profit at the end of election season without incurring a debt or raising capital?\n",
    "- Try to apply the **simplified** McKinsey 7-step problem solving framework with breakout teammates."
   ]
  },
  {
   "cell_type": "markdown",
   "id": "protective-reynolds",
   "metadata": {
    "slideshow": {
     "slide_type": "slide"
    }
   },
   "source": [
    "## TAKEAWAY \\#3: STORY OF TWO GOATS\n",
    "\n",
    "![](https://media.giphy.com/media/26h0pkvcgnFIpvU1a/giphy.gif)\n",
    "\n",
    "Source: <http://gph.is/1NTV4c8>"
   ]
  },
  {
   "cell_type": "markdown",
   "id": "boring-joshua",
   "metadata": {
    "slideshow": {
     "slide_type": "subslide"
    }
   },
   "source": [
    "## THE ACTION PART\n",
    "\n",
    "We are well aware of the diversity between business-oriented versus data-oriented, time to narrow the gap."
   ]
  },
  {
   "cell_type": "markdown",
   "id": "opening-input",
   "metadata": {
    "slideshow": {
     "slide_type": "subslide"
    }
   },
   "source": [
    "## WHICH IS HARDER\n",
    "\n",
    "A business-oriented analyst learning data science or a data-oriented analyst learning business problem solving?"
   ]
  },
  {
   "cell_type": "markdown",
   "id": "outstanding-prayer",
   "metadata": {
    "slideshow": {
     "slide_type": "subslide"
    }
   },
   "source": [
    "## THE OFTEN-SEEN VENN DIAGRAM\n",
    "\n",
    "![](images/ds-vd.png)\n",
    "\n",
    "Source: <http://drewconway.com/zia/2013/3/26/the-data-science-venn-diagram>"
   ]
  },
  {
   "cell_type": "markdown",
   "id": "intimate-fitting",
   "metadata": {
    "slideshow": {
     "slide_type": "subslide"
    }
   },
   "source": [
    "## UNSATISFIED WITH SELECTED FRAMEWORKS\n",
    "\n",
    "- **Simplified** McKinsey 7-step problem solving framework.\n",
    "- Cons of Gartner analytics ascendancy model."
   ]
  },
  {
   "cell_type": "markdown",
   "id": "turned-virginia",
   "metadata": {
    "slideshow": {
     "slide_type": "subslide"
    }
   },
   "source": [
    "## BRUCE LEE, BE WATER MY FRIEND\n",
    "\n",
    "> Be formless, shapeless, like water.\n",
    "\n",
    "Source: <https://youtu.be/uk1lzkH-e4U>"
   ]
  },
  {
   "cell_type": "markdown",
   "id": "junior-candy",
   "metadata": {
    "slideshow": {
     "slide_type": "subslide"
    }
   },
   "source": [
    "## A HYBRID FRAMEWORK: BRIDGING BUSINESS PROBLEM AND ACTION PLANS\n",
    "\n",
    "1. Problem definition.\n",
    "2. Problem structuring.\n",
    "3. Hypothesis solutions.\n",
    "4. Prioritization.\n",
    "5. The Gartner toolbox.\n",
    "6. Synthesis.\n",
    "7. Communication.\n",
    "\n",
    "...A reiterative loop."
   ]
  },
  {
   "cell_type": "markdown",
   "id": "rapid-gilbert",
   "metadata": {
    "slideshow": {
     "slide_type": "subslide"
    }
   },
   "source": [
    "## AN UGLY DRAWN HYBRID FRAMEWORK\n",
    "\n",
    "![](images/hybrid-framework.png)"
   ]
  },
  {
   "cell_type": "markdown",
   "id": "defensive-external",
   "metadata": {
    "slideshow": {
     "slide_type": "subslide"
    }
   },
   "source": [
    "## A GOOD DATA ANALYST IS\n",
    "\n",
    "- tech-savvy.\n",
    "- enthusiastic about business."
   ]
  },
  {
   "cell_type": "markdown",
   "id": "starting-dining",
   "metadata": {
    "slideshow": {
     "slide_type": "subslide"
    }
   },
   "source": [
    "## TIPS FOR A TECH-SAVVY ANALYST ON NARROWING THE GAP\n",
    "\n",
    "- Work the problem definition step HARDER.\n",
    "- Learn the prioritization and synthesis steps.\n",
    "- Work the communication step HARDER."
   ]
  },
  {
   "cell_type": "markdown",
   "id": "aerial-philippines",
   "metadata": {
    "slideshow": {
     "slide_type": "subslide"
    }
   },
   "source": [
    "## ACE THE PROBLEM DEFINITION STEP\n",
    "\n",
    "- Identify mutual interests between decision makers, stakeholders, and ourselves.\n",
    "- Treat stakeholders as partners and do not get defensive.\n",
    "- Be enthusiastic, engaging, objective, and coachable."
   ]
  },
  {
   "cell_type": "markdown",
   "id": "worst-liberty",
   "metadata": {
    "slideshow": {
     "slide_type": "subslide"
    }
   },
   "source": [
    "## YOU HAVE GOT TO LISTEN\n",
    "\n",
    "![](https://media.giphy.com/media/YSxABIzfohDMAelq41/giphy.gif)\n",
    "\n",
    "Source: <https://gph.is/g/EGyoXQ3>"
   ]
  },
  {
   "cell_type": "markdown",
   "id": "satisfactory-patrick",
   "metadata": {
    "slideshow": {
     "slide_type": "subslide"
    }
   },
   "source": [
    "## ACE THE PRIORITIZATION AND SYNTHESIS STEP\n",
    "\n",
    "- Avoid the data fallacies.\n",
    "- Step further to cost-benefit matrix from confusion matrix.\n",
    "- Apply the 80/20 rule.\n",
    "- Create effective action plan by aligning responsibility, timing, and specific steps."
   ]
  },
  {
   "cell_type": "markdown",
   "id": "demanding-democrat",
   "metadata": {
    "slideshow": {
     "slide_type": "subslide"
    }
   },
   "source": [
    "## DATA FALLACIES TO AVOID\n",
    "\n",
    "![](images/data-fallacies-to-avoid.png)\n",
    "\n",
    "Source: <https://www.geckoboard.com/best-practice/statistical-fallacies/>"
   ]
  },
  {
   "cell_type": "markdown",
   "id": "generous-sport",
   "metadata": {
    "slideshow": {
     "slide_type": "subslide"
    }
   },
   "source": [
    "## THE COST-BENEFIT MATRIX\n",
    "\n",
    "\n",
    "![](images/cost-benefit-matrix.png)\n",
    "\n",
    "Source: <https://www.amazon.com/Data-Science-Business-Data-Analytic-Thinking/dp/1449361323>"
   ]
  },
  {
   "cell_type": "markdown",
   "id": "korean-arrow",
   "metadata": {
    "slideshow": {
     "slide_type": "subslide"
    }
   },
   "source": [
    "## ACE THE COMMUNICATION STEP\n",
    "\n",
    "- Reserve logos as our last move.\n",
    "- Prepare the alternatives."
   ]
  },
  {
   "cell_type": "markdown",
   "id": "foreign-representative",
   "metadata": {
    "slideshow": {
     "slide_type": "subslide"
    }
   },
   "source": [
    "## ART OF PERSUATION: THE ARISTOTELIAN FRAMEWORK\n",
    "\n",
    "- Pathos.\n",
    "- Ethos.\n",
    "- Logos."
   ]
  },
  {
   "cell_type": "markdown",
   "id": "conceptual-award",
   "metadata": {
    "slideshow": {
     "slide_type": "subslide"
    }
   },
   "source": [
    "## WORK THE ALTERNATIVES\n",
    "\n",
    "- Best\n",
    "- **2nd best**: put our favorite one here!\n",
    "- 3rd best"
   ]
  },
  {
   "cell_type": "markdown",
   "id": "experienced-community",
   "metadata": {
    "slideshow": {
     "slide_type": "subslide"
    }
   },
   "source": [
    "## WHAT WE'VE GAINED FROM TAKEAWAY \\#3\n",
    "\n",
    "- Tech-savvy analyst narrows the gap between business and data bureaucracy.\n",
    "- Tips for a tech-savvy analyst on narrowing the gap.\n",
    "- Apply the hybrid framework."
   ]
  },
  {
   "cell_type": "markdown",
   "id": "african-factor",
   "metadata": {
    "slideshow": {
     "slide_type": "subslide"
    }
   },
   "source": [
    "## BREAKOUT SESSION\n",
    "\n",
    "- How can a polling agency increase profit at the end of election season without incurring a debt or raising capital?\n",
    "- Try to apply the hybrid framework with breakout teammates.\n",
    "- This time let's also take `additional_information.md` into consideration."
   ]
  }
 ],
 "metadata": {
  "celltoolbar": "Slideshow",
  "kernelspec": {
   "display_name": "Python 3",
   "language": "python",
   "name": "python3"
  },
  "language_info": {
   "codemirror_mode": {
    "name": "ipython",
    "version": 3
   },
   "file_extension": ".py",
   "mimetype": "text/x-python",
   "name": "python",
   "nbconvert_exporter": "python",
   "pygments_lexer": "ipython3",
   "version": "3.8.5"
  }
 },
 "nbformat": 4,
 "nbformat_minor": 5
}
