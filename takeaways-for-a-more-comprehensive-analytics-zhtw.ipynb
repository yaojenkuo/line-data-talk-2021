{
 "cells": [
  {
   "cell_type": "markdown",
   "id": "rental-listening",
   "metadata": {
    "slideshow": {
     "slide_type": "slide"
    }
   },
   "source": [
    "# 資料分析：如何透過資料洞察問題與擬定解方\n",
    "\n",
    "> 內容節錄自 <https://hahow.in/cr/dajourney>\n",
    "\n",
    "[數據交點](https://www.datainpoint.com) | 郭耀仁 <yaojenkuo@datainpoint.com>"
   ]
  },
  {
   "cell_type": "markdown",
   "id": "satellite-lawsuit",
   "metadata": {
    "slideshow": {
     "slide_type": "subslide"
    }
   },
   "source": [
    "## 大綱\n",
    "\n",
    "- 資料分析通識。\n",
    "- 問題解構。\n",
    "- 技能供給與職缺需求。\n",
    "- 驗證。\n",
    "- 學習地圖。"
   ]
  },
  {
   "cell_type": "markdown",
   "id": "533cb0b4",
   "metadata": {
    "slideshow": {
     "slide_type": "slide"
    }
   },
   "source": [
    "## 資料分析通識"
   ]
  },
  {
   "cell_type": "markdown",
   "id": "catholic-norfolk",
   "metadata": {
    "slideshow": {
     "slide_type": "subslide"
    }
   },
   "source": [
    "## 三個重點\n",
    "\n",
    "1. 雙城奇謀，商業導向與資料導向分析之間的灰色地帶。\n",
    "2. 「唯一」的童話故事，有一個泛用的分析框架可以套用在所有的專案中。\n",
    "3. 山羊過橋，無論商業導向或資料導向，總要有一方讓步。"
   ]
  },
  {
   "cell_type": "markdown",
   "id": "exceptional-premium",
   "metadata": {
    "slideshow": {
     "slide_type": "subslide"
    }
   },
   "source": [
    "## 重點一：雙城奇謀\n",
    "\n",
    "![](https://media.giphy.com/media/3oEjHWzZQaCrZW2aWs/giphy.gif)\n",
    "\n",
    "來源：<http://gph.is/1WbH9RY>"
   ]
  },
  {
   "cell_type": "markdown",
   "id": "directed-samuel",
   "metadata": {
    "slideshow": {
     "slide_type": "subslide"
    }
   },
   "source": [
    "## 什麼是分析\n",
    "\n",
    "- 將某個有興趣的問題拆分為數個小問題。\n",
    "- 研究小問題與有興趣的問題之間的關係。"
   ]
  },
  {
   "cell_type": "markdown",
   "id": "uniform-ethics",
   "metadata": {
    "slideshow": {
     "slide_type": "subslide"
    }
   },
   "source": [
    "## 能簡短說明何謂「資料分析」嗎\n",
    "\n",
    "撇除所有華麗的詞彙，「資料分析」是透過以邏輯、事實以及量化為基準來解決問題的方法。"
   ]
  },
  {
   "cell_type": "markdown",
   "id": "acquired-export",
   "metadata": {
    "slideshow": {
     "slide_type": "subslide"
    }
   },
   "source": [
    "## 為什麼要透過資料分析解決問題\n",
    "\n",
    "分析是連接問題與行動計畫之間的橋樑。\n",
    "\n",
    "- 問題。\n",
    "- ~~資料分析。~~\n",
    "- 行動計畫。\n",
    "- 評估。\n",
    "- ...重複循環。"
   ]
  },
  {
   "cell_type": "markdown",
   "id": "invalid-industry",
   "metadata": {
    "slideshow": {
     "slide_type": "subslide"
    }
   },
   "source": [
    "## 常見的十個（商業）問題（1-5）\n",
    "\n",
    "- 進入一個新的市場。\n",
    "- 產業分析。\n",
    "- 併購。\n",
    "- 新產品策略。\n",
    "- 定價策略。"
   ]
  },
  {
   "cell_type": "markdown",
   "id": "configured-artwork",
   "metadata": {
    "slideshow": {
     "slide_type": "subslide"
    }
   },
   "source": [
    "## 常見的十個（商業）問題（6-10）\n",
    "\n",
    "- 成長策略。\n",
    "- 新事業。\n",
    "- 競爭策略。\n",
    "- 增加利潤。\n",
    "- 提升營業收入。\n",
    "- 減少營運成本。\n",
    "- 重組。\n",
    "\n",
    "來源：<https://www.amazon.com/Case-Point-11-Interview-Preparation/dp/0986370762>"
   ]
  },
  {
   "cell_type": "markdown",
   "id": "correct-meaning",
   "metadata": {
    "slideshow": {
     "slide_type": "subslide"
    }
   },
   "source": [
    "## 因應而生的分析框架\n",
    "\n",
    "- 增進分析的效率、品質、可靠性與強韌性。\n",
    "- 實踐 DRY(Don’t Repeat Yourself)準則。"
   ]
  },
  {
   "cell_type": "markdown",
   "id": "chemical-pioneer",
   "metadata": {
    "slideshow": {
     "slide_type": "subslide"
    }
   },
   "source": [
    "## 太多的分析框架\n",
    "\n",
    "![](https://media.giphy.com/media/H1KLQt3RT0sHm/giphy.gif)\n",
    "\n",
    "來源：<http://gph.is/18hNtOr>"
   ]
  },
  {
   "cell_type": "markdown",
   "id": "charitable-bailey",
   "metadata": {
    "slideshow": {
     "slide_type": "subslide"
    }
   },
   "source": [
    "## 商業導向的分析師\n",
    "\n",
    "- 常春藤系統（3Cs、4Ps、波特五力）\n",
    "- 企管顧問公司系統（BCG 矩陣、麥肯錫七步驟）\n",
    "- 損益表分析。\n",
    "- ...等。"
   ]
  },
  {
   "cell_type": "markdown",
   "id": "united-acceptance",
   "metadata": {
    "slideshow": {
     "slide_type": "subslide"
    }
   },
   "source": [
    "## 資料導向的分析師\n",
    "\n",
    "- Gartner 分析遞增模型。\n",
    "- 資料科學金字塔需求。\n",
    "- 資料科學專案流程。\n",
    "- ...等。"
   ]
  },
  {
   "cell_type": "markdown",
   "id": "copyrighted-tourist",
   "metadata": {
    "slideshow": {
     "slide_type": "subslide"
    }
   },
   "source": [
    "## 什麼是常春藤系統（3Cs、4Ps、波特五力）\n",
    "\n",
    "- Customer/Competitor/Company\n",
    "- Product/Price/Place/Promotion\n",
    "- 既有競爭者、潛在新進者、供應商議價力、消費者議價力、替代品威脅。"
   ]
  },
  {
   "cell_type": "markdown",
   "id": "specified-faculty",
   "metadata": {
    "slideshow": {
     "slide_type": "subslide"
    }
   },
   "source": [
    "## 什麼是企管顧問公司系統（BCG 矩陣）\n",
    "\n",
    "![](images/bcg-matrix.png)\n",
    "\n",
    "來源：<https://www.bcg.com/about/overview/our-history/growth-share-matrix>"
   ]
  },
  {
   "cell_type": "markdown",
   "id": "52ea2140",
   "metadata": {
    "slideshow": {
     "slide_type": "subslide"
    }
   },
   "source": [
    "## 什麼是企管顧問公司系統（麥肯錫七步驟）\n",
    "\n",
    "1. 問題定義。\n",
    "2. 問題解構。\n",
    "3. 排序順位。\n",
    "4. 議題分析。\n",
    "5. 整合。\n",
    "6. 故事力。\n",
    "7. 簡報。\n",
    "\n",
    "...重複循環。"
   ]
  },
  {
   "cell_type": "markdown",
   "id": "eight-snapshot",
   "metadata": {
    "slideshow": {
     "slide_type": "subslide"
    }
   },
   "source": [
    "## 什麼是 Gartner 分析遞增模型\n",
    "\n",
    "![](images/gaam.jpeg)\n",
    "\n",
    "來源：<https://www.gartner.com/en/documents/1964015/best-practices-in-analytics-integrating-analytical-capab>"
   ]
  },
  {
   "cell_type": "markdown",
   "id": "trained-inventory",
   "metadata": {
    "slideshow": {
     "slide_type": "subslide"
    }
   },
   "source": [
    "## 什麼是資料科學金字塔需求\n",
    "\n",
    "![](images/ds-hierarchy-needs.png)\n",
    "\n",
    "來源：<https://hackernoon.com/the-ai-hierarchy-of-needs-18f111fcc007>"
   ]
  },
  {
   "cell_type": "markdown",
   "id": "pretty-bristol",
   "metadata": {
    "slideshow": {
     "slide_type": "subslide"
    }
   },
   "source": [
    "## 資料科學專案流程\n",
    "\n",
    "![](images/data-science-project.png)\n",
    "\n",
    "來源：<https://r4ds.had.co.nz/introduction.html>"
   ]
  },
  {
   "cell_type": "markdown",
   "id": "wooden-occasions",
   "metadata": {
    "slideshow": {
     "slide_type": "subslide"
    }
   },
   "source": [
    "## 不同的專注\n",
    "\n",
    "- 商業導向專注在推論邏輯。\n",
    "- 資料導向專注在資訊價值。"
   ]
  },
  {
   "cell_type": "markdown",
   "id": "fundamental-austria",
   "metadata": {
    "slideshow": {
     "slide_type": "subslide"
    }
   },
   "source": [
    "## 重點一統整\n",
    "\n",
    "- 談論到「分析」的時候會產生一定程度的混淆，特別是多樣化的專業背景。\n",
    "- 我們談到了兩種導向的分析：商業導向與資料導向。\n",
    "- 不論商業導向或資料導向，都有多樣化的框架。"
   ]
  },
  {
   "cell_type": "markdown",
   "id": "expensive-sherman",
   "metadata": {
    "slideshow": {
     "slide_type": "subslide"
    }
   },
   "source": [
    "## 重點二：「唯一」的童話故事\n",
    "\n",
    "<https://youtu.be/P7Qv4AV_StM>"
   ]
  },
  {
   "cell_type": "markdown",
   "id": "qualified-evaluation",
   "metadata": {
    "slideshow": {
     "slide_type": "subslide"
    }
   },
   "source": [
    "## 童話故事\n",
    "\n",
    "有一個泛用的分析框架可以套用在所有的專案中。"
   ]
  },
  {
   "cell_type": "markdown",
   "id": "quick-direction",
   "metadata": {
    "slideshow": {
     "slide_type": "subslide"
    }
   },
   "source": [
    "## SCIKIT-LEARN：挑選適當的預測器\n",
    "\n",
    "![](images/sklearn.png)\n",
    "\n",
    "來源：<https://scikit-learn.org/stable/tutorial/machine_learning_map/index.html>"
   ]
  },
  {
   "cell_type": "markdown",
   "id": "dramatic-meeting",
   "metadata": {
    "slideshow": {
     "slide_type": "subslide"
    }
   },
   "source": [
    "## CHESTER ISMAY：挑選適當的推論\n",
    "\n",
    "![](images/inference-mind-map.png)\n",
    "\n",
    "來源：<https://coggle.it/diagram/Vxlydu1akQFeqo6-/t/inference>"
   ]
  },
  {
   "cell_type": "markdown",
   "id": "approved-capture",
   "metadata": {
    "slideshow": {
     "slide_type": "subslide"
    }
   },
   "source": [
    "## 有許多的模型\n",
    "\n",
    "我們沒有自信說哪個模型是「最棒」的，但我們或許能夠說在手邊可取得的模型中有一個最合適的。"
   ]
  },
  {
   "cell_type": "markdown",
   "id": "optional-reaction",
   "metadata": {
    "slideshow": {
     "slide_type": "subslide"
    }
   },
   "source": [
    "## 同理，有許多的框架\n",
    "\n",
    "我們同樣沒有自信說哪個框架可以「一體適用」，但我們或許能夠說某些框架是比較泛用的。"
   ]
  },
  {
   "cell_type": "markdown",
   "id": "durable-stable",
   "metadata": {
    "slideshow": {
     "slide_type": "subslide"
    }
   },
   "source": [
    "## 泛用程度較高的分析框架\n",
    "\n",
    "- 商業導向：簡化版的麥肯錫七步驟。\n",
    "- 資料導向：Gartner 分析遞增模型。"
   ]
  },
  {
   "cell_type": "markdown",
   "id": "unlimited-burning",
   "metadata": {
    "slideshow": {
     "slide_type": "subslide"
    }
   },
   "source": [
    "## 簡化版的麥肯錫七步驟\n",
    "\n",
    "1. 問題定義。\n",
    "2. 問題解構。\n",
    "3. 排序順位。\n",
    "4. ~~議題分析。~~\n",
    "5. 整合。\n",
    "6. ~~故事力。~~\n",
    "7. ~~簡報。~~\n",
    "\n",
    "...重複循環。"
   ]
  },
  {
   "cell_type": "markdown",
   "id": "opened-buyer",
   "metadata": {
    "slideshow": {
     "slide_type": "subslide"
    }
   },
   "source": [
    "## 好的問題定義\n",
    "\n",
    "- 具體。\n",
    "- 可討論。\n",
    "- 將問題連結到決策者。"
   ]
  },
  {
   "cell_type": "markdown",
   "id": "excited-presentation",
   "metadata": {
    "slideshow": {
     "slide_type": "subslide"
    }
   },
   "source": [
    "## 建立問題定義表\n",
    "\n",
    "![](images/problem-statement.png)\n",
    "\n",
    "來源：Google Search"
   ]
  },
  {
   "cell_type": "markdown",
   "id": "intermediate-harmony",
   "metadata": {
    "slideshow": {
     "slide_type": "subslide"
    }
   },
   "source": [
    "## 好的排序順位\n",
    "\n",
    "同時考量財務效果與導入難易度。"
   ]
  },
  {
   "cell_type": "markdown",
   "id": "absent-filter",
   "metadata": {
    "slideshow": {
     "slide_type": "subslide"
    }
   },
   "source": [
    "## 建立財務效果難易矩陣\n",
    "\n",
    "![](images/prioritization.png)\n",
    "\n",
    "來源：[Ten red flags signaling your analytics program will fail](https://www.mckinsey.com/business-functions/mckinsey-analytics/our-insights/ten-red-flags-signaling-your-analytics-program-will-fail)"
   ]
  },
  {
   "cell_type": "markdown",
   "id": "dressed-munich",
   "metadata": {
    "slideshow": {
     "slide_type": "subslide"
    }
   },
   "source": [
    "## 好的整合\n",
    "\n",
    "- 連結假說與支持論述。\n",
    "- 標記必須的資訊。\n",
    "- 辨認責任與時間表。"
   ]
  },
  {
   "cell_type": "markdown",
   "id": "immune-panic",
   "metadata": {
    "slideshow": {
     "slide_type": "subslide"
    }
   },
   "source": [
    "## Gartner 分析遞增模型\n",
    "\n",
    "![](images/gaam.jpeg)\n",
    "\n",
    "來源：<https://www.gartner.com/en/documents/1964015/best-practices-in-analytics-integrating-analytical-capab>"
   ]
  },
  {
   "cell_type": "markdown",
   "id": "cathedral-tonight",
   "metadata": {
    "slideshow": {
     "slide_type": "subslide"
    }
   },
   "source": [
    "## Gartner 分析遞增模型的優點\n",
    "\n",
    "- 與傳統的 **5W2H**(Why/What/Where/When/Who/How/How much) 概念相似。\n",
    "- 先爬再走、先走再跑。"
   ]
  },
  {
   "cell_type": "markdown",
   "id": "spatial-subscriber",
   "metadata": {
    "slideshow": {
     "slide_type": "subslide"
    }
   },
   "source": [
    "## Gartner 分析遞增模型的缺點\n",
    "\n",
    "- 「遞增」隱含了導入的先後順序。\n",
    "- 「價值」與「難易」的雙軸帶來了一些誤導，並不能保證高階、更多難度的導入帶來更高的價值。"
   ]
  },
  {
   "cell_type": "markdown",
   "id": "polar-archive",
   "metadata": {
    "slideshow": {
     "slide_type": "subslide"
    }
   },
   "source": [
    "## 重點二統整\n",
    "\n",
    "- 沒有一個最棒的框架來解決所有的分析問題，但可能比較能廣泛適用多數問題的框架。\n",
    "- 針對麥肯錫七步驟與 Gartner 分析遞增模型有了更多的瞭解。"
   ]
  },
  {
   "cell_type": "markdown",
   "id": "protective-reynolds",
   "metadata": {
    "slideshow": {
     "slide_type": "subslide"
    }
   },
   "source": [
    "## 重點三：山羊過橋\n",
    "\n",
    "![](https://media.giphy.com/media/26h0pkvcgnFIpvU1a/giphy.gif)\n",
    "\n",
    "來源：<http://gph.is/1NTV4c8>"
   ]
  },
  {
   "cell_type": "markdown",
   "id": "outstanding-prayer",
   "metadata": {
    "slideshow": {
     "slide_type": "subslide"
    }
   },
   "source": [
    "## 常見的資料科學文氏圖\n",
    "\n",
    "![](images/ds-vd.png)\n",
    "\n",
    "來源：<http://drewconway.com/zia/2013/3/26/the-data-science-venn-diagram>"
   ]
  },
  {
   "cell_type": "markdown",
   "id": "intimate-fitting",
   "metadata": {
    "slideshow": {
     "slide_type": "subslide"
    }
   },
   "source": [
    "## 對於既有框架的不滿\n",
    "\n",
    "- 簡化版的麥肯錫七步驟。\n",
    "- Gartner 分析遞增模型的缺點。"
   ]
  },
  {
   "cell_type": "markdown",
   "id": "turned-virginia",
   "metadata": {
    "slideshow": {
     "slide_type": "subslide"
    }
   },
   "source": [
    "## BE WATER MY FRIEND\n",
    "\n",
    "> Be formless, shapeless, like water.\n",
    "\n",
    "來源：<https://youtu.be/uk1lzkH-e4U?t=947>"
   ]
  },
  {
   "cell_type": "markdown",
   "id": "junior-candy",
   "metadata": {
    "slideshow": {
     "slide_type": "subslide"
    }
   },
   "source": [
    "## 混成分析框架\n",
    "\n",
    "「商業導向」的分析框架 +「資料導向」的分析框架。"
   ]
  },
  {
   "cell_type": "markdown",
   "id": "rapid-gilbert",
   "metadata": {
    "slideshow": {
     "slide_type": "subslide"
    }
   },
   "source": [
    "## 隨意畫的混成分析框架示意\n",
    "\n",
    "![](images/hybrid-framework.png)"
   ]
  },
  {
   "cell_type": "markdown",
   "id": "defensive-external",
   "metadata": {
    "slideshow": {
     "slide_type": "subslide"
    }
   },
   "source": [
    "## 好的資料分析師\n",
    "\n",
    "- 對資訊科技感到飢渴。\n",
    "- 對商業模式感到興趣。"
   ]
  },
  {
   "cell_type": "markdown",
   "id": "starting-dining",
   "metadata": {
    "slideshow": {
     "slide_type": "subslide"
    }
   },
   "source": [
    "## 由資料導向的分析師弭平差距\n",
    "\n",
    "- 在問題定義的環節更用功。\n",
    "- 掌握排序順位與整合。\n",
    "- 在溝通的環節更用功。"
   ]
  },
  {
   "cell_type": "markdown",
   "id": "aerial-philippines",
   "metadata": {
    "slideshow": {
     "slide_type": "subslide"
    }
   },
   "source": [
    "## 在問題定義的環節更用功\n",
    "\n",
    "- 快速辨識決策者、參與者與自己的共同利益。\n",
    "- 視參與者為同伴，盡量避免帶著過強的防衛心。\n",
    "- 熱情地、高參與度地、客觀地並帶著能夠被指導的心態。"
   ]
  },
  {
   "cell_type": "markdown",
   "id": "worst-liberty",
   "metadata": {
    "slideshow": {
     "slide_type": "subslide"
    }
   },
   "source": [
    "## 如何掌握問題定義：YOU HAVE GOT TO LISTEN\n",
    "\n",
    "![](https://media.giphy.com/media/YSxABIzfohDMAelq41/giphy.gif)\n",
    "\n",
    "來源：<https://gph.is/g/EGyoXQ3>"
   ]
  },
  {
   "cell_type": "markdown",
   "id": "satisfactory-patrick",
   "metadata": {
    "slideshow": {
     "slide_type": "subslide"
    }
   },
   "source": [
    "## 掌握排序順位與整合\n",
    "\n",
    "- 從混淆矩陣邁向成本效益矩陣。\n",
    "- 掌握 80/20 法則。\n",
    "- 藉由整合責任、時間表與具體步驟創造有效的行動方案。"
   ]
  },
  {
   "cell_type": "markdown",
   "id": "generous-sport",
   "metadata": {
    "slideshow": {
     "slide_type": "subslide"
    }
   },
   "source": [
    "## 成本效益矩陣\n",
    "\n",
    "\n",
    "![](images/cost-benefit-matrix.png)\n",
    "\n",
    "來源：<https://www.amazon.com/Data-Science-Business-Data-Analytic-Thinking/dp/1449361323>"
   ]
  },
  {
   "cell_type": "markdown",
   "id": "korean-arrow",
   "metadata": {
    "slideshow": {
     "slide_type": "subslide"
    }
   },
   "source": [
    "## 在溝通的環節更用功\n",
    "\n",
    "- 將邏輯保留至成最後一個大招。\n",
    "- 準備兩個額外的選項。"
   ]
  },
  {
   "cell_type": "markdown",
   "id": "foreign-representative",
   "metadata": {
    "slideshow": {
     "slide_type": "subslide"
    }
   },
   "source": [
    "## 說服的藝術：亞里斯多德框架\n",
    "\n",
    "- 情感 Pathos\n",
    "- 信譽 Ethos\n",
    "- 邏輯 Logos"
   ]
  },
  {
   "cell_type": "markdown",
   "id": "conceptual-award",
   "metadata": {
    "slideshow": {
     "slide_type": "subslide"
    }
   },
   "source": [
    "## 準備兩個額外的選項\n",
    "\n",
    "- 第一好。\n",
    "- **第二好**：把自己最希望決策者挑選的放在這。\n",
    "- 第三好。"
   ]
  },
  {
   "cell_type": "markdown",
   "id": "experienced-community",
   "metadata": {
    "slideshow": {
     "slide_type": "subslide"
    }
   },
   "source": [
    "## 重點三統整\n",
    "\n",
    "- 使用混成框架。\n",
    "- 資料導向分析師該如何弭平差距的訣竅。"
   ]
  },
  {
   "cell_type": "markdown",
   "id": "1364999b",
   "metadata": {
    "slideshow": {
     "slide_type": "slide"
    }
   },
   "source": [
    "## 問題解構"
   ]
  },
  {
   "cell_type": "markdown",
   "id": "99656c8e",
   "metadata": {
    "slideshow": {
     "slide_type": "subslide"
    }
   },
   "source": [
    "## BAZINGA!\n",
    "\n",
    "![](https://media.giphy.com/media/YWZPFFCblEqsw/giphy.gif)\n",
    "\n",
    "來源：<https://media.giphy.com/media/YWZPFFCblEqsw/giphy.gif>"
   ]
  },
  {
   "cell_type": "markdown",
   "id": "sharp-vault",
   "metadata": {
    "slideshow": {
     "slide_type": "subslide"
    }
   },
   "source": [
    "## 好的問題解構\n",
    "\n",
    "- 邏輯樹。\n",
    "    - 議題樹。\n",
    "    - 假說推論樹。\n",
    "- M.E.C.E. 互斥且周延法則。"
   ]
  },
  {
   "cell_type": "markdown",
   "id": "ranking-framing",
   "metadata": {
    "slideshow": {
     "slide_type": "subslide"
    }
   },
   "source": [
    "## 議題樹：前向推導\n",
    "\n",
    "- 如何存更多錢？\n",
    "    - 增加收入。\n",
    "        - 賺取業務獎金。\n",
    "        - 賺取加班費。\n",
    "        - 調整投資組合。\n",
    "    - 減少支出。\n",
    "        - 換季折扣。\n",
    "        - 快時尚。\n",
    "        - 現金回饋。"
   ]
  },
  {
   "cell_type": "markdown",
   "id": "saving-trick",
   "metadata": {
    "slideshow": {
     "slide_type": "subslide"
    }
   },
   "source": [
    "## 假說推論樹：後向推導\n",
    "\n",
    "- 我可以透過調整投資組合來存更多錢。\n",
    "    - 我不是從事業務性質工作。\n",
    "    - 我不想改變消費習慣。\n",
    "    - 我目前的投資策略過於保守。\n",
    "        - 減少指數投資、增加個股投資。\n",
    "        - 透過借貸增加報酬率。\n",
    "        - 增加波段操作。"
   ]
  },
  {
   "cell_type": "markdown",
   "id": "disabled-entrepreneur",
   "metadata": {
    "slideshow": {
     "slide_type": "subslide"
    }
   },
   "source": [
    "## 問題解構的秘訣\n",
    "\n",
    "> There is only one way to eat an elephant: a bite at a time.\n",
    ">\n",
    "> [Desmond Tutu](https://en.wikipedia.org/wiki/Desmond_Tutu)"
   ]
  },
  {
   "cell_type": "markdown",
   "id": "5fdc6751",
   "metadata": {
    "slideshow": {
     "slide_type": "subslide"
    }
   },
   "source": [
    "## 定義資料分析師\n",
    "\n",
    "能夠透過以邏輯、事實以及量化指標為基準來解決問題的人士。"
   ]
  },
  {
   "cell_type": "markdown",
   "id": "70eac5c2",
   "metadata": {
    "slideshow": {
     "slide_type": "subslide"
    }
   },
   "source": [
    "## 技能供給與職缺需求的交點\n",
    "\n",
    "- 技能供給，資料科學的問卷調查。\n",
    "- 職缺需求，徵才網站的職缺描述。"
   ]
  },
  {
   "cell_type": "markdown",
   "id": "7aebf5be",
   "metadata": {
    "slideshow": {
     "slide_type": "slide"
    }
   },
   "source": [
    "## 技能供給與職缺需求"
   ]
  },
  {
   "cell_type": "markdown",
   "id": "78bdc2ca",
   "metadata": {
    "slideshow": {
     "slide_type": "subslide"
    }
   },
   "source": [
    "## 蒐集資料分析師的技能供給\n",
    "\n",
    "<https://www.kaggle.com/c/kaggle-survey-2021>"
   ]
  },
  {
   "cell_type": "markdown",
   "id": "7304307e",
   "metadata": {
    "slideshow": {
     "slide_type": "subslide"
    }
   },
   "source": [
    "## 資料分析師的技能供給\n",
    "\n",
    "- 主要工作內容。\n",
    "- 使用、推薦程式語言。\n",
    "- 整合開發環境。\n",
    "- 視覺化套件。\n",
    "- 商業智能軟體。\n",
    "- 機器學習框架。\n",
    "- 關聯式資料庫。"
   ]
  },
  {
   "cell_type": "markdown",
   "id": "a65301a2",
   "metadata": {
    "slideshow": {
     "slide_type": "subslide"
    }
   },
   "source": [
    "## 主要工作內容\n",
    "\n",
    "> Select any activities that make up an important part of your role at work: (Select all that apply)"
   ]
  },
  {
   "cell_type": "markdown",
   "id": "ec0cd540",
   "metadata": {
    "slideshow": {
     "slide_type": "subslide"
    }
   },
   "source": [
    "## 使用、推薦程式語言\n",
    "\n",
    "- What programming languages do you use on a regular basis? (Select all that apply)\n",
    "- What programming language would you recommend an aspiring data scientist to learn first?"
   ]
  },
  {
   "cell_type": "markdown",
   "id": "7bd68715",
   "metadata": {
    "slideshow": {
     "slide_type": "subslide"
    }
   },
   "source": [
    "## 整合開發環境\n",
    "\n",
    "> Which of the following integrated development environments (IDE's) do you use on a regular basis? (Select all that apply)"
   ]
  },
  {
   "cell_type": "markdown",
   "id": "e41fa506",
   "metadata": {
    "slideshow": {
     "slide_type": "subslide"
    }
   },
   "source": [
    "## 視覺化套件\n",
    "\n",
    "> What data visualization libraries or tools do you use on a regular basis? (Select all that apply)"
   ]
  },
  {
   "cell_type": "markdown",
   "id": "593327bc",
   "metadata": {
    "slideshow": {
     "slide_type": "subslide"
    }
   },
   "source": [
    "## 商業智能軟體\n",
    "\n",
    "> Which of the following business intelligence tools do you use on a regular basis? (Select all that apply)"
   ]
  },
  {
   "cell_type": "markdown",
   "id": "982c95ce",
   "metadata": {
    "slideshow": {
     "slide_type": "subslide"
    }
   },
   "source": [
    "## 機器學習框架\n",
    "\n",
    "> Which of the following machine learning frameworks do you use on a regular basis? (Select all that apply)"
   ]
  },
  {
   "cell_type": "markdown",
   "id": "fad47878",
   "metadata": {
    "slideshow": {
     "slide_type": "subslide"
    }
   },
   "source": [
    "## 關聯式資料庫\n",
    "\n",
    "> Which of the following big data products (relational databases, data warehouses, data lakes, or similar) do you use on a regular basis? (Select all that apply)"
   ]
  },
  {
   "cell_type": "markdown",
   "id": "f423d308",
   "metadata": {
    "slideshow": {
     "slide_type": "subslide"
    }
   },
   "source": [
    "## 蒐集資料分析師的職缺需求\n",
    "\n",
    "- [Indeed](https://tw.indeed.com/?r=us)\n",
    "- [CakeResume](https://www.cakeresume.com/jobs)\n",
    "- [104 人力銀行](https://www.104.com.tw/jobs/main/)"
   ]
  },
  {
   "cell_type": "markdown",
   "id": "d6922536",
   "metadata": {
    "slideshow": {
     "slide_type": "subslide"
    }
   },
   "source": [
    "## 在瀏覽器啟動分析環境\n",
    "\n",
    "- [analyzing-kaggle-survey-in-a-more-structured-way](https://www.kaggle.com/yaojenkuo/analyzing-kaggle-survey-in-a-more-structured-way)\n",
    "- [indeed-cakeresume-104.ipynb](https://mybinder.org/v2/gh/yaojenkuo/hahow-dainaction/master?filepath=indeed-cakeresume-104.ipynb)"
   ]
  },
  {
   "cell_type": "markdown",
   "id": "1ecd20d6",
   "metadata": {
    "slideshow": {
     "slide_type": "subslide"
    }
   },
   "source": [
    "## 資料分析師的職缺描述\n",
    "\n",
    "[data_analyst_jd.xlsx](https://docs.google.com/spreadsheets/d/1FycXKy3m4Cz1bSEvvYipCAoKuGSjzLoyJTT7dD7t2Fk/edit?usp=sharing)"
   ]
  },
  {
   "cell_type": "markdown",
   "id": "c9f5c930",
   "metadata": {
    "slideshow": {
     "slide_type": "subslide"
    }
   },
   "source": [
    "## 資料分析師的主要工作內容\n",
    "\n",
    "分析與暸解資料進而影響產品或商業上的決策。"
   ]
  },
  {
   "cell_type": "markdown",
   "id": "747cd753",
   "metadata": {
    "slideshow": {
     "slide_type": "subslide"
    }
   },
   "source": [
    "## 資料分析師使用、推薦的程式語言\n",
    "\n",
    "主要使用 Python、SQL 與 R，並大力推薦初學者由 Python 入門。"
   ]
  },
  {
   "cell_type": "markdown",
   "id": "9e022c18",
   "metadata": {
    "slideshow": {
     "slide_type": "subslide"
    }
   },
   "source": [
    "## 資料分析師的整合開發環境\n",
    "\n",
    "以 Jupyter、VS Code 與 PyCharm 撰寫 Python、以 RStudio 撰寫 R、以文字編輯器寫作其他語言。"
   ]
  },
  {
   "cell_type": "markdown",
   "id": "e1ff8a97",
   "metadata": {
    "slideshow": {
     "slide_type": "subslide"
    }
   },
   "source": [
    "## 資料分析師的視覺化套件\n",
    "\n",
    "主要使用的視覺化套件是在 Python 使用 matplotlib、seaborn 與 plotly，在 R 使用 ggplot2 與 plotly"
   ]
  },
  {
   "cell_type": "markdown",
   "id": "6e1b8395",
   "metadata": {
    "slideshow": {
     "slide_type": "subslide"
    }
   },
   "source": [
    "## 資料分析師的商業智能軟體\n",
    "\n",
    "主要使用的商業智能軟體是 Tableau 與 PowerBI"
   ]
  },
  {
   "cell_type": "markdown",
   "id": "c7baf1e1",
   "metadata": {
    "slideshow": {
     "slide_type": "subslide"
    }
   },
   "source": [
    "## 資料分析師的機器學習框架\n",
    "\n",
    "主要使用的機器學習框架是 Scikit-Learn 以及深度學習 TensorFlow、Keras、PyTorch"
   ]
  },
  {
   "cell_type": "markdown",
   "id": "a2e5f1ea",
   "metadata": {
    "slideshow": {
     "slide_type": "subslide"
    }
   },
   "source": [
    "## 資料分析師的關聯式資料庫管理系統\n",
    "\n",
    "主要使用的關聯式資料庫管理系統為 MySQL、PostgreSQL 與 MS SQL Server"
   ]
  },
  {
   "cell_type": "markdown",
   "id": "f22c3780",
   "metadata": {
    "slideshow": {
     "slide_type": "slide"
    }
   },
   "source": [
    "## 驗證"
   ]
  },
  {
   "cell_type": "markdown",
   "id": "f5aba47e",
   "metadata": {
    "slideshow": {
     "slide_type": "subslide"
    }
   },
   "source": [
    "## 資料科學團隊面試官訪談\n",
    "\n",
    "- 資料分析師/資料科學/約會交友 APP\n",
    "- 資深講師/教育訓練/外商軟體公司。\n",
    "- 副理/信用模型/銀行。\n",
    "- 資料工程師/資料科學/外送 APP"
   ]
  },
  {
   "cell_type": "markdown",
   "id": "c7466b82",
   "metadata": {
    "slideshow": {
     "slide_type": "subslide"
    }
   },
   "source": [
    "## 資料科學團隊面試官訪談（續）\n",
    "\n",
    "- 經理/資料科學/電信公司。\n",
    "- 經理/資料科學/保險公司。\n",
    "- 副理/整合行銷/銀行。\n",
    "- 副理/商業智能/電商。"
   ]
  },
  {
   "cell_type": "markdown",
   "id": "14d7a6ee",
   "metadata": {
    "slideshow": {
     "slide_type": "subslide"
    }
   },
   "source": [
    "## 訪談 8 位面試官三個問題\n",
    "\n",
    "1. 您希望初階資料分析師分別在程式語言、統計、機器學習、視覺化與資料庫五個面向所具備的程度為何？若以 1 非常陌生、5 為非常熟稔，您的期待是？\n",
    "2. 在進行初階資料分析師的面試時，請和我們分享您通常會問的三個「技術問題」。\n",
    "3. 在進行初階資料分析師的面試時，請和我們分享您通常會問的三個「非技術問題」。"
   ]
  },
  {
   "cell_type": "markdown",
   "id": "4c6aab9a",
   "metadata": {
    "slideshow": {
     "slide_type": "slide"
    }
   },
   "source": [
    "## 學習地圖"
   ]
  },
  {
   "cell_type": "markdown",
   "id": "ed98a824",
   "metadata": {
    "slideshow": {
     "slide_type": "subslide"
    }
   },
   "source": [
    "## 定義「如何成為」\n",
    "\n",
    "- 目標描述。\n",
    "- 現況評估。\n",
    "- 學習地圖。"
   ]
  },
  {
   "cell_type": "markdown",
   "id": "aefc6e14",
   "metadata": {
    "slideshow": {
     "slide_type": "subslide"
    }
   },
   "source": [
    "## 第零站：跟電腦變成好朋友\n",
    "\n",
    "寫程式是理解統計知識與機器學習理論不可或缺的工具與手段，因此學習的起點必須從程式設計起步，而在開始寫程式之前我們應該跟電腦變成好朋友！學習操作終端機、文字編輯器還有 Git/GitHub"
   ]
  },
  {
   "cell_type": "markdown",
   "id": "296a23fd",
   "metadata": {
    "slideshow": {
     "slide_type": "subslide"
    }
   },
   "source": [
    "## 第一站：使用 SQL 查詢資料\n",
    "\n",
    "從課程中所分析的 Kaggle 問卷調查我們得知資料分析師使用最多、最推薦的語言是 Python -> SQL -> R，我會推薦從 SQL 開始，原因是 SQL 作為由資料庫中查詢資料的語言，與人類語言的相似度高、語法單純並且是即戰力的工具，CP 值很高。"
   ]
  },
  {
   "cell_type": "markdown",
   "id": "66429888",
   "metadata": {
    "slideshow": {
     "slide_type": "subslide"
    }
   },
   "source": [
    "## 第二站：使用視覺化軟體作探索性分析\n",
    "\n",
    "懂得如何使用 SQL 之後，可以跟試算表、視覺化軟體搭配開始進行探索性分析，從課程中所分析的 Kaggle 問卷調查我們得知 Tableau 與 PowerBI 是現在最普遍的視覺化軟體，而這兩個都有免費的版本可供個人電腦使用，如果是使用 Windows 作業系統的學員可以都試用，使用 macOS 的學員就使用 Tableau"
   ]
  },
  {
   "cell_type": "markdown",
   "id": "33bb88e5",
   "metadata": {
    "slideshow": {
     "slide_type": "subslide"
    }
   },
   "source": [
    "## 第三站：學習 Python 程式設計\n",
    "\n",
    "想要勝任工程導向的資料科學團隊職缺，必須學會一個在專案的各個應用都能介接、並且能夠自己整併清理資料的程式語言，在 2022 年首選是 Python 程式語言。"
   ]
  },
  {
   "cell_type": "markdown",
   "id": "5ec6e52b",
   "metadata": {
    "slideshow": {
     "slide_type": "subslide"
    }
   },
   "source": [
    "## 第四站：機器學習應用\n",
    "\n",
    "先使用第三方套件實作 Kaggle 專案，至於為何所引用的函數與類別能夠完成機器學習應用，則留待後續在研讀理論後融會貫通。"
   ]
  },
  {
   "cell_type": "markdown",
   "id": "a165767e",
   "metadata": {
    "slideshow": {
     "slide_type": "subslide"
    }
   },
   "source": [
    "## 第五站：學習 R 程式設計\n",
    "\n",
    "機器學習理論會牽涉到程式設計與統計理論，特別是條件機率與機率分配等部分，學習統計理論最好的程式語言是 R 語言，如果在前兩個步驟已經掌握 Python 程式設計以及第三方套件 NumPy、Pandas，在 R 語言的學習進展將會非常快速，我們會發現兩者在面對資料的處理邏輯上其實有異曲同工之妙。"
   ]
  },
  {
   "cell_type": "markdown",
   "id": "3a9c699b",
   "metadata": {
    "slideshow": {
     "slide_type": "subslide"
    }
   },
   "source": [
    "## 第六站：統計與機器學習理論\n",
    "\n",
    "從課程中面試官訪談的部分我們得知，在技術面試時除了會測驗實作，也會詢問第三方套件中相關函數、類別的參數設定以及其背後的理論對應。"
   ]
  }
 ],
 "metadata": {
  "celltoolbar": "Slideshow",
  "kernelspec": {
   "display_name": "Python 3 (ipykernel)",
   "language": "python",
   "name": "python3"
  },
  "language_info": {
   "codemirror_mode": {
    "name": "ipython",
    "version": 3
   },
   "file_extension": ".py",
   "mimetype": "text/x-python",
   "name": "python",
   "nbconvert_exporter": "python",
   "pygments_lexer": "ipython3",
   "version": "3.9.5"
  }
 },
 "nbformat": 4,
 "nbformat_minor": 5
}
